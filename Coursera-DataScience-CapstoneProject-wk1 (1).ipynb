{
 "cells": [
  {
   "cell_type": "markdown",
   "id": "c5e5f081-7842-4152-8a09-187ed95930d9",
   "metadata": {},
   "source": [
    "# Coursera Data Science Program: Capstone Project (Week 1)\n",
    "**Author:** *Clinton Johnson*"
   ]
  },
  {
   "cell_type": "markdown",
   "id": "32d58966-e8db-4d16-8600-302d1cf153fc",
   "metadata": {},
   "source": [
    "## Introduction\n",
    "Discussing the business problem and who would be interested in this project"
   ]
  },
  {
   "cell_type": "markdown",
   "id": "13584d10-6bf5-4b9a-990a-915a64b9a887",
   "metadata": {},
   "source": [
    "* Business Problem\n",
    "* Stakeholders"
   ]
  },
  {
   "cell_type": "markdown",
   "id": "bbc7efc3-6d7b-42e3-bfa1-5a938a919456",
   "metadata": {},
   "source": [
    "### Business Problem\n",
    "Discussing the business problem"
   ]
  },
  {
   "cell_type": "markdown",
   "id": "41045fc8-504c-4f5c-bf6b-21e5b17863e7",
   "metadata": {},
   "source": [
    "#### Background\n",
    "Racial inequities plague communities around the US, affecting the health and well-being of people of color and other racialized groups and ultimately limiting the capacity and progress of the cities, states, and regions where they persist. "
   ]
  },
  {
   "cell_type": "markdown",
   "id": "4bb69f2d-06c4-4652-ad5e-a5852453861a",
   "metadata": {},
   "source": [
    "##### What is Racial Inequity?\n",
    "A racial inequity exists when there are significant disparities in:\n",
    "* availability of community resources (like access to quality schools), \n",
    "* exposure to harmful community conditions (like exposure to toxins in the air), and\n",
    "* education, health, or economic results (like disparities in educational attainment)"
   ]
  },
  {
   "cell_type": "markdown",
   "id": "a752ec9f-886b-438b-85a6-ee49d0f3a6e5",
   "metadata": {},
   "source": [
    "Racial inequities can be determined when race, ethnicity, religion, language, country of origin, or other typically racialized characteristics can be used to predict availability of community resources, exposure to harmful community conditions, or people's outcomes."
   ]
  },
  {
   "cell_type": "markdown",
   "id": "5c1edf5a-5f51-4187-91d2-81b1afc56071",
   "metadata": {},
   "source": [
    "#### Business Question\n",
    "This research effort seeks to answer the following question:\n",
    "> Does the proportion of people of any particular race in a neighborhoods in Philadelphia impact the neighborhood's access to financial services?"
   ]
  },
  {
   "cell_type": "markdown",
   "id": "b025be60-a4af-4363-9d5e-d7a857392976",
   "metadata": {},
   "source": [
    "### Stakeholders\n",
    "Discussing stakeholders who might be interested in this project"
   ]
  },
  {
   "cell_type": "markdown",
   "id": "ddc86c87-875e-4cdb-a41f-b81bd7d3ba05",
   "metadata": {},
   "source": [
    "The following stakeholder groups would be interested in this project:\n",
    "* Philadelphia Government Leaders and Teams\n",
    "    * **Commerce Departments** working to assess and increase prosperity for communities in Philadelphai\n",
    "    * **Health & Human Services Agencies** working to assess and increase prosperity to increase economic resources in Philadelphia, recognizing that the social determinants of health suggests a link between health and financial well-being\n",
    "    * **Community-based Organizations (CBOs)** working to increase prosperity in communities in Philadelphia\n",
    "    * **Financial Services Institutions** working to expand into new business areas.\n",
    "    * **Philadelphia's Constituents** living, working, pursuing entrepreneurial ventures, playing, visiting or traveling through Philadelphia"
   ]
  },
  {
   "cell_type": "markdown",
   "id": "1b1c51dc-a7fc-4381-b8e5-bbe78e906638",
   "metadata": {},
   "source": [
    "## Data\n",
    "Discussing the data that will be used to solve the problem and the source of the data"
   ]
  },
  {
   "cell_type": "markdown",
   "id": "99b8aace-db8c-445e-9421-fc222905de19",
   "metadata": {},
   "source": [
    "* Population Demographics by Zipcode by Race\n",
    "* Financial Services Venues"
   ]
  },
  {
   "cell_type": "markdown",
   "id": "ec7c39cb-6ba7-41aa-a874-ea5a307da819",
   "metadata": {},
   "source": [
    "### Population Demographics by Zipcode by Race"
   ]
  },
  {
   "cell_type": "markdown",
   "id": "e8d1eca5-2410-4efb-9457-2ddf50da6416",
   "metadata": {},
   "source": [
    "**Source:**\n",
    "* Organization: **[US Census](https://data.census.gov/)**\n",
    "* Description: **RACE OF HOUSEHOLDER**, \n",
    "    * Survey/Program: Decennial Census \n",
    "    * Universe (*aka scope*): Occupied housing units\n",
    "    * TableID: H6\n",
    "    * Product: 2010 (*survey year*): DEC Summary File 1\n",
    "\n",
    "**Attribute Descriptions:**\n",
    "\n",
    "|Source Name|Source Description|Notes|\n",
    "|---|---|---|\n",
    "|GEO ID|ID|Unique ID for the specific geographic area\n",
    "|NAME|Geographic Area Name|Name of the geographic area\n",
    "|H006001|Total|Total population in the geographic area\n",
    "|H006002|Total!!Householder who is White alone|Total number of householders who identify as White and no other race according to the [US Census Definitions](https://www.census.gov/topics/population/race/about.html)\n",
    "|H006003|Total!!Householder who is Black or African American alone|Total number of householders who identify as Black or African American and no other race according to the US Census Definitions\n",
    "|H006004|Total!!Householder who is American Indian and Alaska Native alone|Total number of householders who identify as American Indian or Alaska Native and no other race according to the US Census Definitions\n",
    "|H006005|Total!!Householder who is Asian alone|Total number of householders who identify as Asian and no other race according to the US Census Definitions\n",
    "|H006006|Total!!Householder who is Native Hawaiian and Other Pacific Islander alone|Total number of householders who identify as Native Hawaiian or other Pacific Islander and no other race according to the US Census Definitions\n",
    "|H006007|Total!!Householder who is Some Other Race alone|Total number of householders who does not identify with any race defined by the US Census Definitions\n",
    "|H006008|Total!!Householder who is Two or More Races|Total number of householders who identify two or more race categories as defined by the US Census Definitions\n"
   ]
  },
  {
   "cell_type": "markdown",
   "id": "0c0a75a1-a9ed-4b64-a122-a68ee77b159f",
   "metadata": {},
   "source": [
    "### Financial Services Venues"
   ]
  },
  {
   "cell_type": "markdown",
   "id": "f629599a-02c2-410e-882b-0a0c11651e48",
   "metadata": {},
   "source": [
    "**Source:**\n",
    "* Organization: **[FourSquare API](https://foursquare.com/developers)**\n",
    "* Description: **Venue Search**, \n",
    "    * Function: Returns a list of venues near the current location, optionally matching a search term. \n",
    "    * Base URI: https://api.foursquare.com/v2/venues/explore\n",
    "    * Version: 20180604\n",
    "\n",
    "**Parameters Used:**\n",
    "\n",
    "|Source Name|Source Description|Notes|\n",
    "|---|---|---|\n",
    "|near|required unless ll is provided. A string naming a place in the world. If the near string is not geocodable, returns a failed_geocode error. Otherwise, searches within the bounds of the geocode and adds a geocode object to the response.|Intend to search by zipcode\n",
    "|v|Specifies the version of the API to use\n",
    "|query|A search term to be applied against venue names.|Intend to specify criteria to return financial services venues\n",
    "|limit|Number of results to return, up to 50.\n",
    "|radius|Limit results to venues within this many meters of the specified location. Defaults to a city-wide area. Only valid for requests that use categoryId or query. The maximum supported radius is currently 100,000 meters.\n",
    "\n",
    "**Response Descriptions** (used in this project):\n",
    "\n",
    "|Source Name|Source Description|Notes|\n",
    "|---|---|---|\n",
    "|venue-> name|The best known name for this venue.\n",
    "|venue-> categories|An array, possibly empty, of categories that have been applied to this venue. One of the categories will have a primary field indicating that it is the primary category for the venue. For the complete category tree, see categories."
   ]
  },
  {
   "cell_type": "markdown",
   "id": "6a1e9c8d-037e-4f9d-9ac4-18be24ea65de",
   "metadata": {},
   "source": [
    "# Methodology\n",
    "Description of any exploratory data analysis, any inferential statistical testing, if any, and machine learning approaches"
   ]
  },
  {
   "cell_type": "markdown",
   "id": "dfa62a83-5f03-4659-b604-6403eee871d8",
   "metadata": {},
   "source": [
    "## Exploratory Data Analysis"
   ]
  },
  {
   "cell_type": "markdown",
   "id": "9df2e49c-c845-4348-8de2-871e30039de4",
   "metadata": {},
   "source": [
    "* Explore a variety of search terms to retrieve relevant financial services\n",
    "* Look for patterns in the categories of financial services venues as it relates to race\n",
    "* Look for patterns that indicate racial segregation between zipcodes\n",
    "* Look for racial disparities in the number of financial services venues available\n",
    "* Look for correllations between data attributes, particularly between: \n",
    "    * race of householder and type and quantity of venues\n",
    "    * each race category for householders (could indicate segregation)"
   ]
  },
  {
   "cell_type": "markdown",
   "id": "88c071a3-1509-4968-bf1f-bf8bbb91a2c7",
   "metadata": {},
   "source": [
    "## Machine Learning Approaches"
   ]
  },
  {
   "cell_type": "markdown",
   "id": "12c3be0d-42be-496f-827a-613b5940fbda",
   "metadata": {},
   "source": [
    "**Predictive Approaches**\n",
    "   * User regression to determine whether type or quantity of financial services can be predicted based on the race of householders (i.e. Does the percentage or number of Asian householders impact the number of financial institutions?\n",
    "   * User regression to determine whether the percentage of one race category can be determined given another (i.e. Does the percent or number of Black householders impact the percent or number of White householders, Asian householders, or householders of other races?)"
   ]
  }
 ],
 "metadata": {
  "kernelspec": {
   "display_name": "Python 3",
   "language": "python",
   "name": "python3"
  },
  "language_info": {
   "codemirror_mode": {
    "name": "ipython",
    "version": 3
   },
   "file_extension": ".py",
   "mimetype": "text/x-python",
   "name": "python",
   "nbconvert_exporter": "python",
   "pygments_lexer": "ipython3",
   "version": "3.8.8"
  }
 },
 "nbformat": 4,
 "nbformat_minor": 5
}
