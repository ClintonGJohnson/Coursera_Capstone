{
  "nbformat": 4,
  "nbformat_minor": 5,
  "metadata": {
    "kernelspec": {
      "display_name": "Python 3",
      "language": "python",
      "name": "python3"
    },
    "language_info": {
      "codemirror_mode": {
        "name": "ipython",
        "version": 3
      },
      "file_extension": ".py",
      "mimetype": "text/x-python",
      "name": "python",
      "nbconvert_exporter": "python",
      "pygments_lexer": "ipython3",
      "version": "3.8.8"
    },
    "colab": {
      "name": "Coursera-DataScience-CapstoneProject-wk1 (1).ipynb",
      "provenance": [],
      "toc_visible": true
    }
  },
  "cells": [
    {
      "cell_type": "markdown",
      "metadata": {
        "id": "c5e5f081-7842-4152-8a09-187ed95930d9"
      },
      "source": [
        "# Coursera Data Science Program: Capstone Project (Week 1)\n",
        "**Author:** *Clinton Johnson*"
      ],
      "id": "c5e5f081-7842-4152-8a09-187ed95930d9"
    },
    {
      "cell_type": "markdown",
      "metadata": {
        "id": "uFOk6RmdMn4T"
      },
      "source": [
        "## Table of contents\n",
        "* [Introduction](#introduction)\n",
        "  * [Business Problem](#business)\n",
        "* [Data](#data)\n",
        "* [Methodology](#methodology)\n"
      ],
      "id": "uFOk6RmdMn4T"
    },
    {
      "cell_type": "markdown",
      "metadata": {
        "id": "32d58966-e8db-4d16-8600-302d1cf153fc"
      },
      "source": [
        "## Introduction <a name=\"introduction\"></a>\n",
        "Discussing the business problem and who would be interested in this project"
      ],
      "id": "32d58966-e8db-4d16-8600-302d1cf153fc"
    },
    {
      "cell_type": "markdown",
      "metadata": {
        "id": "13584d10-6bf5-4b9a-990a-915a64b9a887"
      },
      "source": [
        "* Business Problem\n",
        "* Stakeholders"
      ],
      "id": "13584d10-6bf5-4b9a-990a-915a64b9a887"
    },
    {
      "cell_type": "markdown",
      "metadata": {
        "id": "bbc7efc3-6d7b-42e3-bfa1-5a938a919456"
      },
      "source": [
        "### Business Problem <a name=\"business\"></a>\n",
        "Discussing the business problem"
      ],
      "id": "bbc7efc3-6d7b-42e3-bfa1-5a938a919456"
    },
    {
      "cell_type": "markdown",
      "metadata": {
        "id": "41045fc8-504c-4f5c-bf6b-21e5b17863e7"
      },
      "source": [
        "#### Background\n",
        "Racial inequities plague communities around the US, affecting the health and well-being of people of color and other racialized groups and ultimately limiting the capacity and progress of the cities, states, and regions where they persist. "
      ],
      "id": "41045fc8-504c-4f5c-bf6b-21e5b17863e7"
    },
    {
      "cell_type": "markdown",
      "metadata": {
        "id": "4bb69f2d-06c4-4652-ad5e-a5852453861a"
      },
      "source": [
        "##### What is Racial Inequity?\n",
        "A racial inequity exists when there are significant disparities in:\n",
        "* availability of community resources (like access to quality schools), \n",
        "* exposure to harmful community conditions (like exposure to toxins in the air), and\n",
        "* education, health, or economic results (like disparities in educational attainment)"
      ],
      "id": "4bb69f2d-06c4-4652-ad5e-a5852453861a"
    },
    {
      "cell_type": "markdown",
      "metadata": {
        "id": "a752ec9f-886b-438b-85a6-ee49d0f3a6e5"
      },
      "source": [
        "Racial inequities can be determined when race, ethnicity, religion, language, country of origin, or other typically racialized characteristics can be used to predict availability of community resources, exposure to harmful community conditions, or people's outcomes."
      ],
      "id": "a752ec9f-886b-438b-85a6-ee49d0f3a6e5"
    },
    {
      "cell_type": "markdown",
      "metadata": {
        "id": "5c1edf5a-5f51-4187-91d2-81b1afc56071"
      },
      "source": [
        "#### Business Question\n",
        "This research effort seeks to answer the following question:\n",
        "> Does the proportion of people of any particular race in a neighborhoods in Philadelphia impact the neighborhood's access to financial services?"
      ],
      "id": "5c1edf5a-5f51-4187-91d2-81b1afc56071"
    },
    {
      "cell_type": "markdown",
      "metadata": {
        "id": "b025be60-a4af-4363-9d5e-d7a857392976"
      },
      "source": [
        "### Stakeholders\n",
        "Discussing stakeholders who might be interested in this project"
      ],
      "id": "b025be60-a4af-4363-9d5e-d7a857392976"
    },
    {
      "cell_type": "markdown",
      "metadata": {
        "id": "ddc86c87-875e-4cdb-a41f-b81bd7d3ba05"
      },
      "source": [
        "The following stakeholder groups would be interested in this project:\n",
        "* Philadelphia Government Leaders and Teams\n",
        "    * **Commerce Departments** working to assess and increase prosperity for communities in Philadelphai\n",
        "    * **Health & Human Services Agencies** working to assess and increase prosperity to increase economic resources in Philadelphia, recognizing that the social determinants of health suggests a link between health and financial well-being\n",
        "    * **Community-based Organizations (CBOs)** working to increase prosperity in communities in Philadelphia\n",
        "    * **Financial Services Institutions** working to expand into new business areas.\n",
        "    * **Philadelphia's Constituents** living, working, pursuing entrepreneurial ventures, playing, visiting or traveling through Philadelphia"
      ],
      "id": "ddc86c87-875e-4cdb-a41f-b81bd7d3ba05"
    },
    {
      "cell_type": "markdown",
      "metadata": {
        "id": "1b1c51dc-a7fc-4381-b8e5-bbe78e906638"
      },
      "source": [
        "## Data <a name=\"data\"></a>\n",
        "Discussing the data that will be used to solve the problem and the source of the data"
      ],
      "id": "1b1c51dc-a7fc-4381-b8e5-bbe78e906638"
    },
    {
      "cell_type": "markdown",
      "metadata": {
        "id": "99b8aace-db8c-445e-9421-fc222905de19"
      },
      "source": [
        "* Population Demographics by Zipcode by Race\n",
        "* Financial Services Venues"
      ],
      "id": "99b8aace-db8c-445e-9421-fc222905de19"
    },
    {
      "cell_type": "markdown",
      "metadata": {
        "id": "ec7c39cb-6ba7-41aa-a874-ea5a307da819"
      },
      "source": [
        "### Population Demographics by Zipcode by Race"
      ],
      "id": "ec7c39cb-6ba7-41aa-a874-ea5a307da819"
    },
    {
      "cell_type": "markdown",
      "metadata": {
        "id": "e8d1eca5-2410-4efb-9457-2ddf50da6416"
      },
      "source": [
        "**Source:**\n",
        "* Organization: **[US Census](https://data.census.gov/)**\n",
        "* Description: **RACE OF HOUSEHOLDER**, \n",
        "    * Survey/Program: Decennial Census \n",
        "    * Universe (*aka scope*): Occupied housing units\n",
        "    * TableID: H6\n",
        "    * Product: 2010 (*survey year*): DEC Summary File 1\n",
        "\n",
        "**Attribute Descriptions:**\n",
        "\n",
        "|Source Name|Source Description|Notes|\n",
        "|---|---|---|\n",
        "|GEO ID|ID|Unique ID for the specific geographic area\n",
        "|NAME|Geographic Area Name|Name of the geographic area\n",
        "|H006001|Total|Total population in the geographic area\n",
        "|H006002|Total!!Householder who is White alone|Total number of householders who identify as White and no other race according to the [US Census Definitions](https://www.census.gov/topics/population/race/about.html)\n",
        "|H006003|Total!!Householder who is Black or African American alone|Total number of householders who identify as Black or African American and no other race according to the US Census Definitions\n",
        "|H006004|Total!!Householder who is American Indian and Alaska Native alone|Total number of householders who identify as American Indian or Alaska Native and no other race according to the US Census Definitions\n",
        "|H006005|Total!!Householder who is Asian alone|Total number of householders who identify as Asian and no other race according to the US Census Definitions\n",
        "|H006006|Total!!Householder who is Native Hawaiian and Other Pacific Islander alone|Total number of householders who identify as Native Hawaiian or other Pacific Islander and no other race according to the US Census Definitions\n",
        "|H006007|Total!!Householder who is Some Other Race alone|Total number of householders who does not identify with any race defined by the US Census Definitions\n",
        "|H006008|Total!!Householder who is Two or More Races|Total number of householders who identify two or more race categories as defined by the US Census Definitions\n"
      ],
      "id": "e8d1eca5-2410-4efb-9457-2ddf50da6416"
    },
    {
      "cell_type": "markdown",
      "metadata": {
        "id": "81aed4dd-1f6a-4556-bf46-091a47919a9a"
      },
      "source": [
        "#### Example"
      ],
      "id": "81aed4dd-1f6a-4556-bf46-091a47919a9a"
    },
    {
      "cell_type": "code",
      "metadata": {
        "id": "ad5c1d68-b322-465c-932c-570a007c2258",
        "outputId": "c48c8cac-dfcf-4098-a9d3-0c07ba15ff74"
      },
      "source": [
        "!pip install wget\n",
        "import wget\n",
        "import pandas as pd\n",
        "\n",
        "url = \"https://raw.githubusercontent.com/ClintonGJohnson/DataSharing/ba93dbd03e2f657a6d7dc07ed96b2760bdbb2c20/DECENNIALSF12010.H6_data_with_overlays_2021-06-06T162552.csv\"\n",
        "file_name = \"census_data.csv\"\n",
        "\n",
        "wget.download(url, file_name)\n",
        "census_data = pd.read_csv(\"census_data.csv\")\n",
        "census_data.head()"
      ],
      "id": "ad5c1d68-b322-465c-932c-570a007c2258",
      "execution_count": null,
      "outputs": [
        {
          "output_type": "stream",
          "text": [
            "Requirement already satisfied: wget in /Users/clin8537/opt/anaconda3/lib/python3.8/site-packages (3.2)\n"
          ],
          "name": "stdout"
        },
        {
          "output_type": "execute_result",
          "data": {
            "text/html": [
              "<div>\n",
              "<style scoped>\n",
              "    .dataframe tbody tr th:only-of-type {\n",
              "        vertical-align: middle;\n",
              "    }\n",
              "\n",
              "    .dataframe tbody tr th {\n",
              "        vertical-align: top;\n",
              "    }\n",
              "\n",
              "    .dataframe thead th {\n",
              "        text-align: right;\n",
              "    }\n",
              "</style>\n",
              "<table border=\"1\" class=\"dataframe\">\n",
              "  <thead>\n",
              "    <tr style=\"text-align: right;\">\n",
              "      <th></th>\n",
              "      <th>GEO_ID</th>\n",
              "      <th>NAME</th>\n",
              "      <th>H006001</th>\n",
              "      <th>H006002</th>\n",
              "      <th>H006003</th>\n",
              "      <th>H006004</th>\n",
              "      <th>H006005</th>\n",
              "      <th>H006006</th>\n",
              "      <th>H006007</th>\n",
              "      <th>H006008</th>\n",
              "    </tr>\n",
              "  </thead>\n",
              "  <tbody>\n",
              "    <tr>\n",
              "      <th>0</th>\n",
              "      <td>id</td>\n",
              "      <td>Geographic Area Name</td>\n",
              "      <td>Total</td>\n",
              "      <td>Total!!Householder who is White alone</td>\n",
              "      <td>Total!!Householder who is Black or African Ame...</td>\n",
              "      <td>Total!!Householder who is American Indian and ...</td>\n",
              "      <td>Total!!Householder who is Asian alone</td>\n",
              "      <td>Total!!Householder who is Native Hawaiian and ...</td>\n",
              "      <td>Total!!Householder who is Some Other Race alone</td>\n",
              "      <td>Total!!Householder who is Two or More Races</td>\n",
              "    </tr>\n",
              "    <tr>\n",
              "      <th>1</th>\n",
              "      <td>8710000US4215675</td>\n",
              "      <td>ZCTA5 15675, Pennsylvania</td>\n",
              "      <td>416</td>\n",
              "      <td>408</td>\n",
              "      <td>5</td>\n",
              "      <td>1</td>\n",
              "      <td>0</td>\n",
              "      <td>0</td>\n",
              "      <td>0</td>\n",
              "      <td>2</td>\n",
              "    </tr>\n",
              "    <tr>\n",
              "      <th>2</th>\n",
              "      <td>8710000US4219033</td>\n",
              "      <td>ZCTA5 19033, Pennsylvania</td>\n",
              "      <td>2978</td>\n",
              "      <td>2783</td>\n",
              "      <td>119</td>\n",
              "      <td>1</td>\n",
              "      <td>46</td>\n",
              "      <td>0</td>\n",
              "      <td>12</td>\n",
              "      <td>17</td>\n",
              "    </tr>\n",
              "    <tr>\n",
              "      <th>3</th>\n",
              "      <td>8710000US4215322</td>\n",
              "      <td>ZCTA5 15322, Pennsylvania</td>\n",
              "      <td>807</td>\n",
              "      <td>778</td>\n",
              "      <td>24</td>\n",
              "      <td>1</td>\n",
              "      <td>0</td>\n",
              "      <td>0</td>\n",
              "      <td>0</td>\n",
              "      <td>4</td>\n",
              "    </tr>\n",
              "    <tr>\n",
              "      <th>4</th>\n",
              "      <td>8710000US4215622</td>\n",
              "      <td>ZCTA5 15622, Pennsylvania</td>\n",
              "      <td>621</td>\n",
              "      <td>619</td>\n",
              "      <td>0</td>\n",
              "      <td>0</td>\n",
              "      <td>0</td>\n",
              "      <td>0</td>\n",
              "      <td>0</td>\n",
              "      <td>2</td>\n",
              "    </tr>\n",
              "  </tbody>\n",
              "</table>\n",
              "</div>"
            ],
            "text/plain": [
              "             GEO_ID                       NAME H006001  \\\n",
              "0                id       Geographic Area Name   Total   \n",
              "1  8710000US4215675  ZCTA5 15675, Pennsylvania     416   \n",
              "2  8710000US4219033  ZCTA5 19033, Pennsylvania    2978   \n",
              "3  8710000US4215322  ZCTA5 15322, Pennsylvania     807   \n",
              "4  8710000US4215622  ZCTA5 15622, Pennsylvania     621   \n",
              "\n",
              "                                 H006002  \\\n",
              "0  Total!!Householder who is White alone   \n",
              "1                                    408   \n",
              "2                                   2783   \n",
              "3                                    778   \n",
              "4                                    619   \n",
              "\n",
              "                                             H006003  \\\n",
              "0  Total!!Householder who is Black or African Ame...   \n",
              "1                                                  5   \n",
              "2                                                119   \n",
              "3                                                 24   \n",
              "4                                                  0   \n",
              "\n",
              "                                             H006004  \\\n",
              "0  Total!!Householder who is American Indian and ...   \n",
              "1                                                  1   \n",
              "2                                                  1   \n",
              "3                                                  1   \n",
              "4                                                  0   \n",
              "\n",
              "                                 H006005  \\\n",
              "0  Total!!Householder who is Asian alone   \n",
              "1                                      0   \n",
              "2                                     46   \n",
              "3                                      0   \n",
              "4                                      0   \n",
              "\n",
              "                                             H006006  \\\n",
              "0  Total!!Householder who is Native Hawaiian and ...   \n",
              "1                                                  0   \n",
              "2                                                  0   \n",
              "3                                                  0   \n",
              "4                                                  0   \n",
              "\n",
              "                                           H006007  \\\n",
              "0  Total!!Householder who is Some Other Race alone   \n",
              "1                                                0   \n",
              "2                                               12   \n",
              "3                                                0   \n",
              "4                                                0   \n",
              "\n",
              "                                       H006008  \n",
              "0  Total!!Householder who is Two or More Races  \n",
              "1                                            2  \n",
              "2                                           17  \n",
              "3                                            4  \n",
              "4                                            2  "
            ]
          },
          "metadata": {
            "tags": []
          },
          "execution_count": 8
        }
      ]
    },
    {
      "cell_type": "markdown",
      "metadata": {
        "id": "0c0a75a1-a9ed-4b64-a122-a68ee77b159f"
      },
      "source": [
        "### Financial Services Venues"
      ],
      "id": "0c0a75a1-a9ed-4b64-a122-a68ee77b159f"
    },
    {
      "cell_type": "markdown",
      "metadata": {
        "id": "f629599a-02c2-410e-882b-0a0c11651e48"
      },
      "source": [
        "**Source:**\n",
        "* Organization: **[FourSquare API](https://foursquare.com/developers)**\n",
        "* Description: **Venue Search**, \n",
        "    * Function: Returns a list of venues near the current location, optionally matching a search term. \n",
        "    * Base URI: https://api.foursquare.com/v2/venues/explore\n",
        "    * Version: 20180604\n",
        "\n",
        "**Parameters Used:**\n",
        "\n",
        "|Source Name|Source Description|Notes|\n",
        "|---|---|---|\n",
        "|near|required unless ll is provided. A string naming a place in the world. If the near string is not geocodable, returns a failed_geocode error. Otherwise, searches within the bounds of the geocode and adds a geocode object to the response.|Intend to search by zipcode\n",
        "|v|Specifies the version of the API to use\n",
        "|query|A search term to be applied against venue names.|Intend to specify criteria to return financial services venues\n",
        "|limit|Number of results to return, up to 50.\n",
        "|radius|Limit results to venues within this many meters of the specified location. Defaults to a city-wide area. Only valid for requests that use categoryId or query. The maximum supported radius is currently 100,000 meters.\n",
        "\n",
        "**Response Descriptions** (used in this project):\n",
        "\n",
        "|Source Name|Source Description|Notes|\n",
        "|---|---|---|\n",
        "|venue-> name|The best known name for this venue.\n",
        "|venue-> categories|An array, possibly empty, of categories that have been applied to this venue. One of the categories will have a primary field indicating that it is the primary category for the venue. For the complete category tree, see categories."
      ],
      "id": "f629599a-02c2-410e-882b-0a0c11651e48"
    },
    {
      "cell_type": "markdown",
      "metadata": {
        "id": "6a1e9c8d-037e-4f9d-9ac4-18be24ea65de"
      },
      "source": [
        "# Methodology <a name=\"methodology\"></a>\n",
        "Description of any exploratory data analysis, any inferential statistical testing, if any, and machine learning approaches"
      ],
      "id": "6a1e9c8d-037e-4f9d-9ac4-18be24ea65de"
    },
    {
      "cell_type": "markdown",
      "metadata": {
        "id": "dfa62a83-5f03-4659-b604-6403eee871d8"
      },
      "source": [
        "## Exploratory Data Analysis"
      ],
      "id": "dfa62a83-5f03-4659-b604-6403eee871d8"
    },
    {
      "cell_type": "markdown",
      "metadata": {
        "id": "9df2e49c-c845-4348-8de2-871e30039de4"
      },
      "source": [
        "* Explore a variety of search terms to retrieve relevant financial services\n",
        "* Look for patterns in the categories of financial services venues as it relates to race\n",
        "* Look for patterns that indicate racial segregation between zipcodes\n",
        "* Look for racial disparities in the number of financial services venues available\n",
        "* Look for correllations between data attributes, particularly between: \n",
        "    * race of householder and type and quantity of venues\n",
        "    * each race category for householders (could indicate segregation)"
      ],
      "id": "9df2e49c-c845-4348-8de2-871e30039de4"
    },
    {
      "cell_type": "markdown",
      "metadata": {
        "id": "88c071a3-1509-4968-bf1f-bf8bbb91a2c7"
      },
      "source": [
        "## Machine Learning Approaches"
      ],
      "id": "88c071a3-1509-4968-bf1f-bf8bbb91a2c7"
    },
    {
      "cell_type": "markdown",
      "metadata": {
        "id": "12c3be0d-42be-496f-827a-613b5940fbda"
      },
      "source": [
        "**Predictive Approaches**\n",
        "   * User regression to determine whether type or quantity of financial services can be predicted based on the race of householders (i.e. Does the percentage or number of Asian householders impact the number of financial institutions?\n",
        "   * User regression to determine whether the percentage of one race category can be determined given another (i.e. Does the percent or number of Black householders impact the percent or number of White householders, Asian householders, or householders of other races?)"
      ],
      "id": "12c3be0d-42be-496f-827a-613b5940fbda"
    }
  ]
}