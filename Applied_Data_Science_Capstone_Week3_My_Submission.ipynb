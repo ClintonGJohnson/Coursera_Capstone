{
  "nbformat": 4,
  "nbformat_minor": 0,
  "metadata": {
    "colab": {
      "name": "Applied_Data_Science_Capstone_Week3_My_Submission.ipynb",
      "provenance": [],
      "collapsed_sections": [],
      "authorship_tag": "ABX9TyOEW6jPeYN/R9UTbvOFcmn1",
      "include_colab_link": true
    },
    "kernelspec": {
      "name": "python3",
      "display_name": "Python 3"
    },
    "language_info": {
      "name": "python"
    }
  },
  "cells": [
    {
      "cell_type": "markdown",
      "metadata": {
        "id": "view-in-github",
        "colab_type": "text"
      },
      "source": [
        "<a href=\"https://colab.research.google.com/github/ClintonGJohnson/Coursera_Capstone/blob/main/Applied_Data_Science_Capstone_Week3_My_Submission.ipynb\" target=\"_parent\"><img src=\"https://colab.research.google.com/assets/colab-badge.svg\" alt=\"Open In Colab\"/></a>"
      ]
    },
    {
      "cell_type": "markdown",
      "metadata": {
        "id": "8sXBG08CZBvr"
      },
      "source": [
        "# Applied Data Science Capstone Week 3\n",
        "## Peer Graded Assignment\n",
        "### Segmenting and Clustering Neighbourhoods in Toronto"
      ]
    },
    {
      "cell_type": "markdown",
      "metadata": {
        "id": "X6fBV8NFZ5Hb"
      },
      "source": [
        "---\n",
        "### Instructions\n",
        "\n",
        "In this assignment, you will be required to explore, segment, and cluster the Neighbourhoods in the city of Toronto based on the postalcode and borough information.. However, unlike New York, the Neighbourhood data is not readily available on the internet. What is interesting about the field of data science is that each project can be challenging in its unique way, so you need to learn to be agile and refine the skill to learn new libraries and tools quickly depending on the project.\n",
        "\n",
        "For the Toronto Neighbourhood data, a Wikipedia page exists that has all the information we need to explore and cluster the Neighbourhoods in Toronto. You will be required to scrape the Wikipedia page and wrangle the data, clean it, and then read it into a pandas  dataframe so that it is in a structured format like the New York dataset.\n",
        "\n",
        "Once the data is in a structured format, you can replicate the analysis that we did to the New York City dataset to explore and cluster the Neighbourhoods in the city of Toronto.\n",
        "\n",
        "Your submission will be a link to your Jupyter Notebook on your Github repository."
      ]
    },
    {
      "cell_type": "markdown",
      "metadata": {
        "id": "kjevcayiaHnO"
      },
      "source": [
        "\n",
        "---\n",
        "### My Approach\n",
        "\n",
        "\n",
        "1.   **Compile a list (DataFrame df) of neighbourhoods in Toronto**\n",
        "\n",
        "> Gather the list of neighbourhood names and coordinates (latitude and longitude of neighbourhood centroids)\n",
        "\n",
        "\n",
        "> Clean the list removing rows or columns with missing data\n",
        "\n",
        "\n",
        "\n",
        "2.   **Compile a list of venues near each neighbourhood** (within 500 meters of the centroid, which may lead to overlaps in some cases and may not encompass the full Neighbourhood in other cases)\n",
        "\n",
        "3. **Analyze Each Neighbourhood**\n",
        "\n",
        "4. **Cluster Neighbourhoods**\n",
        "\n",
        "5. **Examine Clusters**\n",
        "\n",
        "\n",
        "\n",
        "\n",
        "\n"
      ]
    },
    {
      "cell_type": "markdown",
      "metadata": {
        "id": "LSktwYDPdIH4"
      },
      "source": [
        "### Install and import relevant libraries\n",
        "* Pandas\n",
        "* Numpy\n",
        "* SciKit-Learn\n",
        "* MatPlotLib\n",
        "* GeoPy\n",
        "* Json"
      ]
    },
    {
      "cell_type": "code",
      "metadata": {
        "colab": {
          "base_uri": "https://localhost:8080/"
        },
        "id": "W-wrpy51YoVA",
        "outputId": "b4918608-dd04-4db4-eb70-d42666c753a0"
      },
      "source": [
        "import numpy as np # library to handle data in a vectorized manner\n",
        "\n",
        "import pandas as pd # library for data analsysis\n",
        "pd.set_option('display.max_columns', None)\n",
        "pd.set_option('display.max_rows', None)\n",
        "\n",
        "import json # library to handle JSON files\n",
        "\n",
        "#!conda install -c conda-forge geopy --yes # uncomment this line if you haven't completed the Foursquare API lab\n",
        "#from geopy.geocoders import Nominatim # convert an address into latitude and longitude values\n",
        "\n",
        "import requests # library to handle requests\n",
        "from pandas.io.json import json_normalize # tranform JSON file into a pandas dataframe\n",
        "\n",
        "# Matplotlib and associated plotting modules\n",
        "import matplotlib.cm as cm\n",
        "import matplotlib.colors as colors\n",
        "\n",
        "# import k-means from clustering stage\n",
        "from sklearn.cluster import KMeans\n",
        "\n",
        "!conda install -c conda-forge folium=0.5.0 --yes # uncomment this line if you haven't completed the Foursquare API lab\n",
        "import folium # map rendering library\n",
        "\n",
        "print('Libraries imported.')"
      ],
      "execution_count": 1,
      "outputs": [
        {
          "output_type": "stream",
          "text": [
            "/bin/bash: conda: command not found\n",
            "Libraries imported.\n"
          ],
          "name": "stdout"
        }
      ]
    },
    {
      "cell_type": "markdown",
      "metadata": {
        "id": "E29zRnDOeli2"
      },
      "source": [
        "# 1. Compile a list (DataFrame df) of neighbourhoods in Toronto\n",
        "> Gather the list of neighbourhood names and coordinates (latitude and longitude of neighbourhood centroids)\n",
        "> 1. **Gather Neighbourhood List from Wiki page:** https://en.wikipedia.org/w/index.php?title=List_of_postal_codes_of_Canada:_M&oldid=945633050.\n",
        "> The first Table in the web page contains a list of Neighbourhoods in Toronto\n",
        "> 2. **Clean the list** removing rows or columns with missing data\n",
        "> Remove any records with \"Not Assigned\" Burough or Neighbourhood\n",
        "> 3. **Geocode each neighbourhood** to collect coordinates"
      ]
    },
    {
      "cell_type": "markdown",
      "metadata": {
        "id": "GwH5Lm8-iegt"
      },
      "source": [
        "### 1.1. **Gather Neighbourhood List from Wiki page:**"
      ]
    },
    {
      "cell_type": "code",
      "metadata": {
        "colab": {
          "base_uri": "https://localhost:8080/",
          "height": 204
        },
        "id": "D2cf_UVGeJS8",
        "outputId": "dbdbafb3-df4d-43e8-c4b0-01c56e0b0b66"
      },
      "source": [
        "url = \"https://en.wikipedia.org/w/index.php?title=List_of_postal_codes_of_Canada:_M&oldid=945633050\"\n",
        "html_tables = pd.read_html(url)\n",
        "\n",
        "html_tables[0].head() # confirming that we have the correct table (Columns: Postcode, Borough, Neighbourhood)"
      ],
      "execution_count": 2,
      "outputs": [
        {
          "output_type": "execute_result",
          "data": {
            "text/html": [
              "<div>\n",
              "<style scoped>\n",
              "    .dataframe tbody tr th:only-of-type {\n",
              "        vertical-align: middle;\n",
              "    }\n",
              "\n",
              "    .dataframe tbody tr th {\n",
              "        vertical-align: top;\n",
              "    }\n",
              "\n",
              "    .dataframe thead th {\n",
              "        text-align: right;\n",
              "    }\n",
              "</style>\n",
              "<table border=\"1\" class=\"dataframe\">\n",
              "  <thead>\n",
              "    <tr style=\"text-align: right;\">\n",
              "      <th></th>\n",
              "      <th>Postcode</th>\n",
              "      <th>Borough</th>\n",
              "      <th>Neighbourhood</th>\n",
              "    </tr>\n",
              "  </thead>\n",
              "  <tbody>\n",
              "    <tr>\n",
              "      <th>0</th>\n",
              "      <td>M1A</td>\n",
              "      <td>Not assigned</td>\n",
              "      <td>Not assigned</td>\n",
              "    </tr>\n",
              "    <tr>\n",
              "      <th>1</th>\n",
              "      <td>M2A</td>\n",
              "      <td>Not assigned</td>\n",
              "      <td>Not assigned</td>\n",
              "    </tr>\n",
              "    <tr>\n",
              "      <th>2</th>\n",
              "      <td>M3A</td>\n",
              "      <td>North York</td>\n",
              "      <td>Parkwoods</td>\n",
              "    </tr>\n",
              "    <tr>\n",
              "      <th>3</th>\n",
              "      <td>M4A</td>\n",
              "      <td>North York</td>\n",
              "      <td>Victoria Village</td>\n",
              "    </tr>\n",
              "    <tr>\n",
              "      <th>4</th>\n",
              "      <td>M5A</td>\n",
              "      <td>Downtown Toronto</td>\n",
              "      <td>Harbourfront</td>\n",
              "    </tr>\n",
              "  </tbody>\n",
              "</table>\n",
              "</div>"
            ],
            "text/plain": [
              "  Postcode           Borough     Neighbourhood\n",
              "0      M1A      Not assigned      Not assigned\n",
              "1      M2A      Not assigned      Not assigned\n",
              "2      M3A        North York         Parkwoods\n",
              "3      M4A        North York  Victoria Village\n",
              "4      M5A  Downtown Toronto      Harbourfront"
            ]
          },
          "metadata": {
            "tags": []
          },
          "execution_count": 2
        }
      ]
    },
    {
      "cell_type": "markdown",
      "metadata": {
        "id": "L1Gfvy9xin7I"
      },
      "source": [
        "### **1.2**. **Clean the list**"
      ]
    },
    {
      "cell_type": "code",
      "metadata": {
        "colab": {
          "base_uri": "https://localhost:8080/"
        },
        "id": "aApiYG_dh211",
        "outputId": "cfecd093-6e36-4d29-bf24-a8330aaf4a6a"
      },
      "source": [
        "df = html_tables[0] # set the DataFrame df\n",
        "# replace \"Not Assigned\" with None\n",
        "df = df.replace({'Not assigned':None})\n",
        "df.count()"
      ],
      "execution_count": 3,
      "outputs": [
        {
          "output_type": "execute_result",
          "data": {
            "text/plain": [
              "Postcode         287\n",
              "Borough          210\n",
              "Neighbourhood    210\n",
              "dtype: int64"
            ]
          },
          "metadata": {
            "tags": []
          },
          "execution_count": 3
        }
      ]
    },
    {
      "cell_type": "code",
      "metadata": {
        "colab": {
          "base_uri": "https://localhost:8080/"
        },
        "id": "EsEePta5gtHV",
        "outputId": "e1f66590-e322-4018-c0bb-240b0657c6e5"
      },
      "source": [
        "# drop nulls (Nones)\n",
        "df.dropna(axis=0, inplace=True)\n",
        "df.count()"
      ],
      "execution_count": 4,
      "outputs": [
        {
          "output_type": "execute_result",
          "data": {
            "text/plain": [
              "Postcode         210\n",
              "Borough          210\n",
              "Neighbourhood    210\n",
              "dtype: int64"
            ]
          },
          "metadata": {
            "tags": []
          },
          "execution_count": 4
        }
      ]
    },
    {
      "cell_type": "markdown",
      "metadata": {
        "id": "u0E19xeqvB2H"
      },
      "source": [
        "Explore the list"
      ]
    },
    {
      "cell_type": "code",
      "metadata": {
        "colab": {
          "base_uri": "https://localhost:8080/",
          "height": 204
        },
        "id": "uSZMl1ogvEIX",
        "outputId": "a86184cc-d795-4fd8-c630-57bc3a643be2"
      },
      "source": [
        "df.head()"
      ],
      "execution_count": 5,
      "outputs": [
        {
          "output_type": "execute_result",
          "data": {
            "text/html": [
              "<div>\n",
              "<style scoped>\n",
              "    .dataframe tbody tr th:only-of-type {\n",
              "        vertical-align: middle;\n",
              "    }\n",
              "\n",
              "    .dataframe tbody tr th {\n",
              "        vertical-align: top;\n",
              "    }\n",
              "\n",
              "    .dataframe thead th {\n",
              "        text-align: right;\n",
              "    }\n",
              "</style>\n",
              "<table border=\"1\" class=\"dataframe\">\n",
              "  <thead>\n",
              "    <tr style=\"text-align: right;\">\n",
              "      <th></th>\n",
              "      <th>Postcode</th>\n",
              "      <th>Borough</th>\n",
              "      <th>Neighbourhood</th>\n",
              "    </tr>\n",
              "  </thead>\n",
              "  <tbody>\n",
              "    <tr>\n",
              "      <th>2</th>\n",
              "      <td>M3A</td>\n",
              "      <td>North York</td>\n",
              "      <td>Parkwoods</td>\n",
              "    </tr>\n",
              "    <tr>\n",
              "      <th>3</th>\n",
              "      <td>M4A</td>\n",
              "      <td>North York</td>\n",
              "      <td>Victoria Village</td>\n",
              "    </tr>\n",
              "    <tr>\n",
              "      <th>4</th>\n",
              "      <td>M5A</td>\n",
              "      <td>Downtown Toronto</td>\n",
              "      <td>Harbourfront</td>\n",
              "    </tr>\n",
              "    <tr>\n",
              "      <th>5</th>\n",
              "      <td>M6A</td>\n",
              "      <td>North York</td>\n",
              "      <td>Lawrence Heights</td>\n",
              "    </tr>\n",
              "    <tr>\n",
              "      <th>6</th>\n",
              "      <td>M6A</td>\n",
              "      <td>North York</td>\n",
              "      <td>Lawrence Manor</td>\n",
              "    </tr>\n",
              "  </tbody>\n",
              "</table>\n",
              "</div>"
            ],
            "text/plain": [
              "  Postcode           Borough     Neighbourhood\n",
              "2      M3A        North York         Parkwoods\n",
              "3      M4A        North York  Victoria Village\n",
              "4      M5A  Downtown Toronto      Harbourfront\n",
              "5      M6A        North York  Lawrence Heights\n",
              "6      M6A        North York    Lawrence Manor"
            ]
          },
          "metadata": {
            "tags": []
          },
          "execution_count": 5
        }
      ]
    },
    {
      "cell_type": "code",
      "metadata": {
        "colab": {
          "base_uri": "https://localhost:8080/"
        },
        "id": "ReRRe4Y5vkR_",
        "outputId": "354f85e3-b1f7-46b0-9bc2-6f156ff1694f"
      },
      "source": [
        "df.shape"
      ],
      "execution_count": 6,
      "outputs": [
        {
          "output_type": "execute_result",
          "data": {
            "text/plain": [
              "(210, 3)"
            ]
          },
          "metadata": {
            "tags": []
          },
          "execution_count": 6
        }
      ]
    },
    {
      "cell_type": "markdown",
      "metadata": {
        "id": "de4Dy3q4xF89"
      },
      "source": [
        "# 2. Geocode Neighborhoods"
      ]
    },
    {
      "cell_type": "code",
      "metadata": {
        "id": "Dr8lkx4v-l2-",
        "colab": {
          "base_uri": "https://localhost:8080/"
        },
        "outputId": "b3b241a4-0eac-4ec6-8dfa-1af5a2c05f82"
      },
      "source": [
        "!pip install arcgis # Using Esri's ArcGIS for accurate geocoding\n",
        "#!conda install -c esri arcgis"
      ],
      "execution_count": 13,
      "outputs": [
        {
          "output_type": "stream",
          "text": [
            "Requirement already satisfied: arcgis in /usr/local/lib/python3.7/dist-packages (1.8.5.post3)\n",
            "Requirement already satisfied: matplotlib in /usr/local/lib/python3.7/dist-packages (from arcgis) (3.2.2)\n",
            "Requirement already satisfied: pyshp>=2 in /usr/local/lib/python3.7/dist-packages (from arcgis) (2.1.3)\n",
            "Requirement already satisfied: requests-oauthlib in /usr/local/lib/python3.7/dist-packages (from arcgis) (1.3.0)\n",
            "Requirement already satisfied: ipywidgets>=7 in /usr/local/lib/python3.7/dist-packages (from arcgis) (7.6.3)\n",
            "Requirement already satisfied: requests-toolbelt in /usr/local/lib/python3.7/dist-packages (from arcgis) (0.9.1)\n",
            "Requirement already satisfied: python-certifi-win32 in /usr/local/lib/python3.7/dist-packages (from arcgis) (1.6)\n",
            "Requirement already satisfied: requests-ntlm in /usr/local/lib/python3.7/dist-packages (from arcgis) (1.1.0)\n",
            "Requirement already satisfied: ujson>=3 in /usr/local/lib/python3.7/dist-packages (from arcgis) (4.0.2)\n",
            "Requirement already satisfied: pandas>=1 in /usr/local/lib/python3.7/dist-packages (from arcgis) (1.1.5)\n",
            "Requirement already satisfied: numpy>=1.16.2 in /usr/local/lib/python3.7/dist-packages (from arcgis) (1.19.5)\n",
            "Requirement already satisfied: keyring>=19 in /usr/local/lib/python3.7/dist-packages (from arcgis) (23.0.1)\n",
            "Requirement already satisfied: requests in /usr/local/lib/python3.7/dist-packages (from arcgis) (2.23.0)\n",
            "Requirement already satisfied: six in /usr/local/lib/python3.7/dist-packages (from arcgis) (1.15.0)\n",
            "Requirement already satisfied: jupyterlab in /usr/local/lib/python3.7/dist-packages (from arcgis) (3.0.16)\n",
            "Requirement already satisfied: widgetsnbextension>=3 in /usr/local/lib/python3.7/dist-packages (from arcgis) (3.5.1)\n",
            "Requirement already satisfied: lerc in /usr/local/lib/python3.7/dist-packages (from arcgis) (0.1.0)\n",
            "Requirement already satisfied: pyparsing!=2.0.4,!=2.1.2,!=2.1.6,>=2.0.1 in /usr/local/lib/python3.7/dist-packages (from matplotlib->arcgis) (2.4.7)\n",
            "Requirement already satisfied: python-dateutil>=2.1 in /usr/local/lib/python3.7/dist-packages (from matplotlib->arcgis) (2.8.1)\n",
            "Requirement already satisfied: cycler>=0.10 in /usr/local/lib/python3.7/dist-packages (from matplotlib->arcgis) (0.10.0)\n",
            "Requirement already satisfied: kiwisolver>=1.0.1 in /usr/local/lib/python3.7/dist-packages (from matplotlib->arcgis) (1.3.1)\n",
            "Requirement already satisfied: oauthlib>=3.0.0 in /usr/local/lib/python3.7/dist-packages (from requests-oauthlib->arcgis) (3.1.0)\n",
            "Requirement already satisfied: jupyterlab-widgets>=1.0.0; python_version >= \"3.6\" in /usr/local/lib/python3.7/dist-packages (from ipywidgets>=7->arcgis) (1.0.0)\n",
            "Requirement already satisfied: nbformat>=4.2.0 in /usr/local/lib/python3.7/dist-packages (from ipywidgets>=7->arcgis) (5.1.3)\n",
            "Requirement already satisfied: traitlets>=4.3.1 in /usr/local/lib/python3.7/dist-packages (from ipywidgets>=7->arcgis) (5.0.5)\n",
            "Requirement already satisfied: ipykernel>=4.5.1 in /usr/local/lib/python3.7/dist-packages (from ipywidgets>=7->arcgis) (4.10.1)\n",
            "Requirement already satisfied: ipython>=4.0.0; python_version >= \"3.3\" in /usr/local/lib/python3.7/dist-packages (from ipywidgets>=7->arcgis) (5.5.0)\n",
            "Requirement already satisfied: setuptools-scm in /usr/local/lib/python3.7/dist-packages (from python-certifi-win32->arcgis) (6.0.1)\n",
            "Requirement already satisfied: certifi in /usr/local/lib/python3.7/dist-packages (from python-certifi-win32->arcgis) (2020.12.5)\n",
            "Requirement already satisfied: wrapt>=1.10.4 in /usr/local/lib/python3.7/dist-packages (from python-certifi-win32->arcgis) (1.12.1)\n",
            "Requirement already satisfied: ntlm-auth>=1.0.2 in /usr/local/lib/python3.7/dist-packages (from requests-ntlm->arcgis) (1.5.0)\n",
            "Requirement already satisfied: cryptography>=1.3 in /usr/local/lib/python3.7/dist-packages (from requests-ntlm->arcgis) (3.4.7)\n",
            "Requirement already satisfied: pytz>=2017.2 in /usr/local/lib/python3.7/dist-packages (from pandas>=1->arcgis) (2018.9)\n",
            "Requirement already satisfied: importlib-metadata>=3.6 in /usr/local/lib/python3.7/dist-packages (from keyring>=19->arcgis) (4.0.1)\n",
            "Requirement already satisfied: jeepney>=0.4.2; sys_platform == \"linux\" in /usr/local/lib/python3.7/dist-packages (from keyring>=19->arcgis) (0.6.0)\n",
            "Requirement already satisfied: SecretStorage>=3.2; sys_platform == \"linux\" in /usr/local/lib/python3.7/dist-packages (from keyring>=19->arcgis) (3.3.1)\n",
            "Requirement already satisfied: idna<3,>=2.5 in /usr/local/lib/python3.7/dist-packages (from requests->arcgis) (2.10)\n",
            "Requirement already satisfied: chardet<4,>=3.0.2 in /usr/local/lib/python3.7/dist-packages (from requests->arcgis) (3.0.4)\n",
            "Requirement already satisfied: urllib3!=1.25.0,!=1.25.1,<1.26,>=1.21.1 in /usr/local/lib/python3.7/dist-packages (from requests->arcgis) (1.24.3)\n",
            "Requirement already satisfied: jinja2>=2.1 in /usr/local/lib/python3.7/dist-packages (from jupyterlab->arcgis) (2.11.3)\n",
            "Requirement already satisfied: jupyter-server~=1.4 in /usr/local/lib/python3.7/dist-packages (from jupyterlab->arcgis) (1.8.0)\n",
            "Requirement already satisfied: nbclassic~=0.2 in /usr/local/lib/python3.7/dist-packages (from jupyterlab->arcgis) (0.3.1)\n",
            "Requirement already satisfied: packaging in /usr/local/lib/python3.7/dist-packages (from jupyterlab->arcgis) (20.9)\n",
            "Requirement already satisfied: jupyter-core in /usr/local/lib/python3.7/dist-packages (from jupyterlab->arcgis) (4.7.1)\n",
            "Requirement already satisfied: jupyterlab-server~=2.3 in /usr/local/lib/python3.7/dist-packages (from jupyterlab->arcgis) (2.6.0)\n",
            "Requirement already satisfied: tornado>=6.1.0 in /usr/local/lib/python3.7/dist-packages (from jupyterlab->arcgis) (6.1)\n",
            "Requirement already satisfied: notebook>=4.4.1 in /usr/local/lib/python3.7/dist-packages (from widgetsnbextension>=3->arcgis) (5.3.1)\n",
            "Requirement already satisfied: jsonschema!=2.5.0,>=2.4 in /usr/local/lib/python3.7/dist-packages (from nbformat>=4.2.0->ipywidgets>=7->arcgis) (2.6.0)\n",
            "Requirement already satisfied: ipython-genutils in /usr/local/lib/python3.7/dist-packages (from nbformat>=4.2.0->ipywidgets>=7->arcgis) (0.2.0)\n",
            "Requirement already satisfied: jupyter-client in /usr/local/lib/python3.7/dist-packages (from ipykernel>=4.5.1->ipywidgets>=7->arcgis) (5.3.5)\n",
            "Requirement already satisfied: decorator in /usr/local/lib/python3.7/dist-packages (from ipython>=4.0.0; python_version >= \"3.3\"->ipywidgets>=7->arcgis) (4.4.2)\n",
            "Requirement already satisfied: simplegeneric>0.8 in /usr/local/lib/python3.7/dist-packages (from ipython>=4.0.0; python_version >= \"3.3\"->ipywidgets>=7->arcgis) (0.8.1)\n",
            "Requirement already satisfied: pexpect; sys_platform != \"win32\" in /usr/local/lib/python3.7/dist-packages (from ipython>=4.0.0; python_version >= \"3.3\"->ipywidgets>=7->arcgis) (4.8.0)\n",
            "Requirement already satisfied: setuptools>=18.5 in /usr/local/lib/python3.7/dist-packages (from ipython>=4.0.0; python_version >= \"3.3\"->ipywidgets>=7->arcgis) (57.0.0)\n",
            "Requirement already satisfied: pygments in /usr/local/lib/python3.7/dist-packages (from ipython>=4.0.0; python_version >= \"3.3\"->ipywidgets>=7->arcgis) (2.6.1)\n",
            "Requirement already satisfied: pickleshare in /usr/local/lib/python3.7/dist-packages (from ipython>=4.0.0; python_version >= \"3.3\"->ipywidgets>=7->arcgis) (0.7.5)\n",
            "Requirement already satisfied: prompt-toolkit<2.0.0,>=1.0.4 in /usr/local/lib/python3.7/dist-packages (from ipython>=4.0.0; python_version >= \"3.3\"->ipywidgets>=7->arcgis) (1.0.18)\n",
            "Requirement already satisfied: cffi>=1.12 in /usr/local/lib/python3.7/dist-packages (from cryptography>=1.3->requests-ntlm->arcgis) (1.14.5)\n",
            "Requirement already satisfied: typing-extensions>=3.6.4; python_version < \"3.8\" in /usr/local/lib/python3.7/dist-packages (from importlib-metadata>=3.6->keyring>=19->arcgis) (3.7.4.3)\n",
            "Requirement already satisfied: zipp>=0.5 in /usr/local/lib/python3.7/dist-packages (from importlib-metadata>=3.6->keyring>=19->arcgis) (3.4.1)\n",
            "Requirement already satisfied: MarkupSafe>=0.23 in /usr/local/lib/python3.7/dist-packages (from jinja2>=2.1->jupyterlab->arcgis) (2.0.1)\n",
            "Requirement already satisfied: Send2Trash in /usr/local/lib/python3.7/dist-packages (from jupyter-server~=1.4->jupyterlab->arcgis) (1.5.0)\n",
            "Requirement already satisfied: websocket-client in /usr/local/lib/python3.7/dist-packages (from jupyter-server~=1.4->jupyterlab->arcgis) (1.0.1)\n",
            "Requirement already satisfied: pyzmq>=17 in /usr/local/lib/python3.7/dist-packages (from jupyter-server~=1.4->jupyterlab->arcgis) (22.0.3)\n",
            "Requirement already satisfied: terminado>=0.8.3 in /usr/local/lib/python3.7/dist-packages (from jupyter-server~=1.4->jupyterlab->arcgis) (0.10.0)\n",
            "Requirement already satisfied: prometheus-client in /usr/local/lib/python3.7/dist-packages (from jupyter-server~=1.4->jupyterlab->arcgis) (0.10.1)\n",
            "Requirement already satisfied: argon2-cffi in /usr/local/lib/python3.7/dist-packages (from jupyter-server~=1.4->jupyterlab->arcgis) (20.1.0)\n",
            "Requirement already satisfied: anyio<4,>=3.1.0 in /usr/local/lib/python3.7/dist-packages (from jupyter-server~=1.4->jupyterlab->arcgis) (3.1.0)\n",
            "Requirement already satisfied: nbconvert in /usr/local/lib/python3.7/dist-packages (from jupyter-server~=1.4->jupyterlab->arcgis) (5.6.1)\n",
            "Requirement already satisfied: json5 in /usr/local/lib/python3.7/dist-packages (from jupyterlab-server~=2.3->jupyterlab->arcgis) (0.9.5)\n",
            "Requirement already satisfied: babel in /usr/local/lib/python3.7/dist-packages (from jupyterlab-server~=2.3->jupyterlab->arcgis) (2.9.1)\n",
            "Requirement already satisfied: ptyprocess>=0.5 in /usr/local/lib/python3.7/dist-packages (from pexpect; sys_platform != \"win32\"->ipython>=4.0.0; python_version >= \"3.3\"->ipywidgets>=7->arcgis) (0.7.0)\n",
            "Requirement already satisfied: wcwidth in /usr/local/lib/python3.7/dist-packages (from prompt-toolkit<2.0.0,>=1.0.4->ipython>=4.0.0; python_version >= \"3.3\"->ipywidgets>=7->arcgis) (0.2.5)\n",
            "Requirement already satisfied: pycparser in /usr/local/lib/python3.7/dist-packages (from cffi>=1.12->cryptography>=1.3->requests-ntlm->arcgis) (2.20)\n",
            "Requirement already satisfied: sniffio>=1.1 in /usr/local/lib/python3.7/dist-packages (from anyio<4,>=3.1.0->jupyter-server~=1.4->jupyterlab->arcgis) (1.2.0)\n",
            "Requirement already satisfied: mistune<2,>=0.8.1 in /usr/local/lib/python3.7/dist-packages (from nbconvert->jupyter-server~=1.4->jupyterlab->arcgis) (0.8.4)\n",
            "Requirement already satisfied: entrypoints>=0.2.2 in /usr/local/lib/python3.7/dist-packages (from nbconvert->jupyter-server~=1.4->jupyterlab->arcgis) (0.3)\n",
            "Requirement already satisfied: pandocfilters>=1.4.1 in /usr/local/lib/python3.7/dist-packages (from nbconvert->jupyter-server~=1.4->jupyterlab->arcgis) (1.4.3)\n",
            "Requirement already satisfied: bleach in /usr/local/lib/python3.7/dist-packages (from nbconvert->jupyter-server~=1.4->jupyterlab->arcgis) (3.3.0)\n",
            "Requirement already satisfied: testpath in /usr/local/lib/python3.7/dist-packages (from nbconvert->jupyter-server~=1.4->jupyterlab->arcgis) (0.5.0)\n",
            "Requirement already satisfied: defusedxml in /usr/local/lib/python3.7/dist-packages (from nbconvert->jupyter-server~=1.4->jupyterlab->arcgis) (0.7.1)\n",
            "Requirement already satisfied: webencodings in /usr/local/lib/python3.7/dist-packages (from bleach->nbconvert->jupyter-server~=1.4->jupyterlab->arcgis) (0.5.1)\n"
          ],
          "name": "stdout"
        }
      ]
    },
    {
      "cell_type": "code",
      "metadata": {
        "colab": {
          "base_uri": "https://localhost:8080/"
        },
        "id": "XeM0YKc6-uni",
        "outputId": "e6de7fbc-59d6-4ca7-b59f-866114a16e9f"
      },
      "source": [
        "from arcgis.gis import GIS\n",
        "from arcgis.geocoding import Geocoder, get_geocoders, geocode\n",
        "\n",
        "\n",
        "from IPython.display import display\n",
        "\n",
        "arcgis_online = GIS()\n",
        "items = arcgis_online.content.search('Geocoder', 'geocoding service', max_items=3)\n",
        "    \n",
        "# construct a geocoder using the first geocoding service item\n",
        "worldgeocoder = Geocoder.fromitem(items[0])\n",
        "worldgeocoder   "
      ],
      "execution_count": 7,
      "outputs": [
        {
          "output_type": "execute_result",
          "data": {
            "text/plain": [
              "<Geocoder url:\"https://geocoder.arcgisonline.nl/arcgis/rest/services/Geocoder_BAG_RD/GeocodeServer\">"
            ]
          },
          "metadata": {
            "tags": []
          },
          "execution_count": 7
        }
      ]
    },
    {
      "cell_type": "markdown",
      "metadata": {
        "id": "ztSmIg_31RCn"
      },
      "source": [
        "Geocode each neighbourhood"
      ]
    },
    {
      "cell_type": "code",
      "metadata": {
        "colab": {
          "base_uri": "https://localhost:8080/"
        },
        "id": "Yzm-aNxdhf3c",
        "outputId": "3d5a9545-458f-4be4-e3de-f7dd57f6755c"
      },
      "source": [
        "address_format = \"{}, {}, ON, CA\" # Neighbourhood, Borough, ON, CA\n",
        "\n",
        "toronto_data = pd.DataFrame(columns=['Postcode', 'Borough', 'Neighbourhood', 'Address', 'Latitude', 'Longitude'])\n",
        "no_match = 0\n",
        "matched = 0\n",
        "\n",
        "for p, b, n in zip(df['Postcode'], df['Borough'], df['Neighbourhood']):\n",
        "  address = address_format.format(n,b)\n",
        "  print('Geocoding {}'.format( address))\n",
        "\n",
        "  latitude = None\n",
        "  longitude = None\n",
        "  location = None\n",
        "\n",
        "  try: \n",
        "    matches = geocode(address) #Geocode using ArcGIS Online\n",
        "    if len(matches)>0:\n",
        "      location = matches[0]\n",
        "  except TimeoutError:\n",
        "    print('Geocoder Request Timed Out')\n",
        "  except:\n",
        "    print('Error has occurred')\n",
        "\n",
        "  if location == None:\n",
        "    no_match+=1\n",
        "    print('...No results :(')\n",
        "  else:\n",
        "    latitude = location['location']['y']\n",
        "    longitude = location['location']['x']\n",
        "    matched+=1\n",
        "    print('...{}, {}'.format(latitude,longitude))\n",
        "\n",
        "  toronto_data = toronto_data.append(\n",
        "      {\n",
        "        'Address': address,\n",
        "        'Latitude': latitude,\n",
        "        'Longitude': longitude,\n",
        "        'Neighbourhood': n,\n",
        "        'Borough': b,\n",
        "        'Postcode': p\n",
        "      },\n",
        "      ignore_index=True\n",
        "  )\n",
        "\n",
        "print('Geocoding Complete! {} locations matched, but {} not matched'.format(matched, no_match))\n",
        "\n",
        "toronto_data.shape"
      ],
      "execution_count": 10,
      "outputs": [
        {
          "output_type": "stream",
          "text": [
            "Geocoding Parkwoods, North York, ON, CA\n",
            "...44.20973226495906, -79.47189723748289\n",
            "Geocoding Victoria Village, North York, ON, CA\n",
            "...43.73154000000005, -79.31427999999994\n",
            "Geocoding Harbourfront, Downtown Toronto, ON, CA\n",
            "...43.65011000000004, -79.38289999999995\n",
            "Geocoding Lawrence Heights, North York, ON, CA\n",
            "...43.72357000000005, -79.43710999999996\n",
            "Geocoding Lawrence Manor, North York, ON, CA\n",
            "...43.72294000000005, -79.43115999999998\n",
            "Geocoding Queen's Park, Downtown Toronto, ON, CA\n",
            "...43.660673101153115, -79.39083464301146\n",
            "Geocoding Islington Avenue, Etobicoke, ON, CA\n",
            "...43.738221166575215, -79.56573343932973\n",
            "Geocoding Rouge, Scarborough, ON, CA\n",
            "...43.807660000000055, -79.17404999999997\n",
            "Geocoding Malvern, Scarborough, ON, CA\n",
            "...43.81023000000005, -79.22037999999998\n",
            "Geocoding Don Mills North, North York, ON, CA\n",
            "...43.705685127473515, -79.33385691603588\n",
            "Geocoding Woodbine Gardens, East York, ON, CA\n",
            "...43.70626000000004, -79.30090999999999\n",
            "Geocoding Parkview Hill, East York, ON, CA\n",
            "...43.70464000000004, -79.32266999999996\n",
            "Geocoding Ryerson, Downtown Toronto, ON, CA\n",
            "...43.65011000000004, -79.38289999999995\n",
            "Geocoding Garden District, Downtown Toronto, ON, CA\n",
            "...43.65011000000004, -79.38289999999995\n",
            "Geocoding Glencairn, North York, ON, CA\n",
            "...43.708432596237074, -79.44644871017785\n",
            "Geocoding Cloverdale, Etobicoke, ON, CA\n",
            "...43.630123762186514, -79.55613612126254\n",
            "Geocoding Islington, Etobicoke, ON, CA\n",
            "...43.738221166575215, -79.56573343932973\n",
            "Geocoding Martin Grove, Etobicoke, ON, CA\n",
            "...43.65611194707431, -79.55389479485254\n",
            "Geocoding Princess Gardens, Etobicoke, ON, CA\n",
            "...43.67268172333881, -79.5425557950166\n",
            "Geocoding West Deane Park, Etobicoke, ON, CA\n",
            "...43.65297000000004, -79.55741999999998\n",
            "Geocoding Highland Creek, Scarborough, ON, CA\n",
            "...43.789480000000026, -79.17613999999998\n",
            "Geocoding Rouge Hill, Scarborough, ON, CA\n",
            "...43.78716000000003, -79.13251999999994\n",
            "Geocoding Port Union, Scarborough, ON, CA\n",
            "...43.77897000000007, -79.13108999999997\n",
            "Geocoding Flemingdon Park, North York, ON, CA\n",
            "...43.71631000000008, -79.33170999999999\n",
            "Geocoding Don Mills South, North York, ON, CA\n",
            "...43.705685127473515, -79.33385691603588\n",
            "Geocoding Woodbine Heights, East York, ON, CA\n",
            "...43.70632371963116, -79.32151698345479\n",
            "Geocoding St. James Town, Downtown Toronto, ON, CA\n",
            "...43.67110000000008, -79.37358999999998\n",
            "Geocoding Humewood-Cedarvale, York, ON, CA\n",
            "...43.68942000000004, -79.42697999999996\n",
            "Geocoding Bloordale Gardens, Etobicoke, ON, CA\n",
            "...43.63349000000005, -79.57073999999994\n",
            "Geocoding Eringate, Etobicoke, ON, CA\n",
            "...43.66169683126957, -79.5782401312465\n",
            "Geocoding Markland Wood, Etobicoke, ON, CA\n",
            "...43.63391000000007, -79.56947999999994\n",
            "Geocoding Old Burnhamthorpe, Etobicoke, ON, CA\n",
            "...43.64350961602527, -79.57988402000329\n",
            "Geocoding Guildwood, Scarborough, ON, CA\n",
            "...43.74953000000005, -79.18991999999997\n",
            "Geocoding Morningside, Scarborough, ON, CA\n",
            "...43.78255000000007, -79.20522999999997\n",
            "Geocoding West Hill, Scarborough, ON, CA\n",
            "...43.76343000000003, -79.17819999999995\n",
            "Geocoding The Beaches, East Toronto, ON, CA\n",
            "...43.67413000000005, -79.29643999999996\n",
            "Geocoding Berczy Park, Downtown Toronto, ON, CA\n",
            "...43.65011000000004, -79.38289999999995\n",
            "Geocoding Caledonia-Fairbanks, York, ON, CA\n",
            "...43.68857000000003, -79.45482999999996\n",
            "Geocoding Woburn, Scarborough, ON, CA\n",
            "...43.767480000000035, -79.22828999999996\n",
            "Geocoding Leaside, East York, ON, CA\n",
            "...43.70023653076849, -79.35106505955042\n",
            "Geocoding Central Bay Street, Downtown Toronto, ON, CA\n",
            "...43.66528314984209, -79.38755551000085\n",
            "Geocoding Christie, Downtown Toronto, ON, CA\n",
            "...43.65011000000004, -79.38289999999995\n",
            "Geocoding Cedarbrae, Scarborough, ON, CA\n",
            "...43.747740961533395, -79.23517827086341\n",
            "Geocoding Hillcrest Village, North York, ON, CA\n",
            "...43.803030000000035, -79.35345999999998\n",
            "Geocoding Bathurst Manor, North York, ON, CA\n",
            "...43.763780000000054, -79.45476999999994\n",
            "Geocoding Downsview North, North York, ON, CA\n",
            "...43.7201966122159, -79.4998953799414\n",
            "Geocoding Wilson Heights, North York, ON, CA\n",
            "...43.737370000000055, -79.43416999999994\n",
            "Geocoding Thorncliffe Park, East York, ON, CA\n",
            "...43.70732000000004, -79.34352999999999\n",
            "Geocoding Adelaide, Downtown Toronto, ON, CA\n",
            "...43.65011000000004, -79.38289999999995\n",
            "Geocoding King, Downtown Toronto, ON, CA\n",
            "...43.65011000000004, -79.38289999999995\n",
            "Geocoding Richmond, Downtown Toronto, ON, CA\n",
            "...43.65011000000004, -79.38289999999995\n",
            "Geocoding Dovercourt Village, West Toronto, ON, CA\n",
            "...43.66397364630586, -79.43036398720734\n",
            "Geocoding Dufferin, West Toronto, ON, CA\n",
            "...43.691869130821054, -79.44867153294219\n",
            "Geocoding Scarborough Village, Scarborough, ON, CA\n",
            "...43.738650000000064, -79.21698999999995\n",
            "Geocoding Fairview, North York, ON, CA\n",
            "...43.971415357722485, -79.2575462526059\n",
            "Geocoding Henry Farm, North York, ON, CA\n",
            "...43.772290000000055, -79.34085999999996\n",
            "Geocoding Oriole, North York, ON, CA\n",
            "...44.32841004539672, -79.20308490246677\n",
            "Geocoding Northwood Park, North York, ON, CA\n",
            "...43.742650000000026, -79.49646999999999\n",
            "Geocoding York University, North York, ON, CA\n",
            "...43.77170000000007, -79.49862999999993\n",
            "Geocoding East Toronto, East York, ON, CA\n",
            "...43.66941861937794, -79.46919963984406\n",
            "Geocoding Harbourfront East, Downtown Toronto, ON, CA\n",
            "...43.65011000000004, -79.38289999999995\n",
            "Geocoding Toronto Islands, Downtown Toronto, ON, CA\n",
            "...43.62103006996925, -79.37714996220241\n",
            "Geocoding Union Station, Downtown Toronto, ON, CA\n",
            "...43.65011000000004, -79.38289999999995\n",
            "Geocoding Little Portugal, West Toronto, ON, CA\n",
            "...43.64755000000008, -79.42904999999996\n",
            "Geocoding Trinity, West Toronto, ON, CA\n",
            "...43.65422963896981, -79.38155637098947\n",
            "Geocoding East Birchmount Park, Scarborough, ON, CA\n",
            "...43.696021127369534, -79.26356208719265\n",
            "Geocoding Ionview, Scarborough, ON, CA\n",
            "...43.736290000000054, -79.27319999999997\n",
            "Geocoding Kennedy Park, Scarborough, ON, CA\n",
            "...43.72587000000004, -79.26228999999995\n",
            "Geocoding Bayview Village, North York, ON, CA\n",
            "...43.777100000000075, -79.37956999999994\n",
            "Geocoding CFB Toronto, North York, ON, CA\n",
            "...43.768260000000055, -79.41262999999998\n",
            "Geocoding Downsview East, North York, ON, CA\n",
            "...43.7201966122159, -79.4998953799414\n",
            "Geocoding The Danforth West, East Toronto, ON, CA\n",
            "...43.69066965894869, -79.29079162745943\n",
            "Geocoding Riverdale, East Toronto, ON, CA\n",
            "...43.73215578086778, -79.55998222733785\n",
            "Geocoding Design Exchange, Downtown Toronto, ON, CA\n",
            "...43.648189956142986, -79.38011000447203\n",
            "Geocoding Toronto Dominion Centre, Downtown Toronto, ON, CA\n",
            "...43.64695596098003, -79.3814602534971\n",
            "Geocoding Brockton, West Toronto, ON, CA\n",
            "...43.64876362411447, -79.43448350773502\n",
            "Geocoding Exhibition Place, West Toronto, ON, CA\n",
            "...43.63468000000006, -79.41633999999993\n",
            "Geocoding Parkdale Village, West Toronto, ON, CA\n",
            "...43.64132174291243, -79.45143113881925\n",
            "Geocoding Clairlea, Scarborough, ON, CA\n",
            "...43.71462096224263, -79.29154125378024\n",
            "Geocoding Golden Mile, Scarborough, ON, CA\n",
            "...43.72751000000005, -79.28274999999996\n",
            "Geocoding Oakridge, Scarborough, ON, CA\n",
            "...43.698830000000044, -79.27911999999998\n",
            "Geocoding Silver Hills, North York, ON, CA\n",
            "...43.75763000000006, -79.37118999999996\n",
            "Geocoding York Mills, North York, ON, CA\n",
            "...43.744158943504665, -79.40284306109886\n",
            "Geocoding Downsview West, North York, ON, CA\n",
            "...43.7201966122159, -79.4998953799414\n",
            "Geocoding The Beaches West, East Toronto, ON, CA\n",
            "...43.67413000000005, -79.29643999999996\n",
            "Geocoding India Bazaar, East Toronto, ON, CA\n",
            "...43.73835004385715, -79.56550998110117\n",
            "Geocoding Commerce Court, Downtown Toronto, ON, CA\n",
            "...43.64878998985561, -79.37951489175764\n",
            "Geocoding Victoria Hotel, Downtown Toronto, ON, CA\n",
            "...43.65473998167818, -79.37894005886068\n",
            "Geocoding Downsview, North York, ON, CA\n",
            "...43.7201966122159, -79.4998953799414\n",
            "Geocoding North Park, North York, ON, CA\n",
            "...43.72097000000008, -79.47552999999994\n",
            "Geocoding Upwood Park, North York, ON, CA\n",
            "...43.7068386071563, -79.50003135012177\n",
            "Geocoding Humber Summit, North York, ON, CA\n",
            "...43.76016000000004, -79.55848999999995\n",
            "Geocoding Cliffcrest, Scarborough, ON, CA\n",
            "...43.726420000000076, -79.23296999999997\n",
            "Geocoding Cliffside, Scarborough, ON, CA\n",
            "...43.70380294321023, -79.25062349440715\n",
            "Geocoding Scarborough Village West, Scarborough, ON, CA\n",
            "...43.738650000000064, -79.21698999999995\n",
            "Geocoding Newtonbrook, North York, ON, CA\n",
            "...43.78730000000007, -79.40982999999994\n",
            "Geocoding Willowdale, North York, ON, CA\n",
            "...43.78227000000004, -79.42812999999995\n",
            "Geocoding Downsview Central, North York, ON, CA\n",
            "...43.7201966122159, -79.4998953799414\n",
            "Geocoding Studio District, East Toronto, ON, CA\n",
            "...43.648690000000045, -79.38543999999996\n",
            "Geocoding Bedford Park, North York, ON, CA\n",
            "...43.72618508683731, -79.40877221491067\n",
            "Geocoding Lawrence Manor East, North York, ON, CA\n",
            "...43.72381318571036, -79.40831429112161\n",
            "Geocoding Del Ray, York, ON, CA\n",
            "...43.857843880810634, -79.30067052687222\n",
            "Geocoding Keelesdale, York, ON, CA\n",
            "...43.68904395132165, -79.48367372507329\n",
            "Geocoding Mount Dennis, York, ON, CA\n",
            "...43.68910000000005, -79.49551999999994\n",
            "Geocoding Silverthorn, York, ON, CA\n",
            "...43.6775865611861, -79.46109244472574\n",
            "Geocoding Emery, North York, ON, CA\n",
            "...43.75314000000003, -79.53616999999997\n",
            "Geocoding Humberlea, North York, ON, CA\n",
            "...43.89573858074691, -79.28605147290904\n",
            "Geocoding Birch Cliff, Scarborough, ON, CA\n",
            "...43.68436000000003, -79.27589999999998\n",
            "Geocoding Cliffside West, Scarborough, ON, CA\n",
            "...43.70380294321023, -79.25062349440715\n",
            "Geocoding Willowdale South, North York, ON, CA\n",
            "...43.77094195854672, -79.40260722961315\n",
            "Geocoding Downsview Northwest, North York, ON, CA\n",
            "...43.7201966122159, -79.4998953799414\n",
            "Geocoding Lawrence Park, Central Toronto, ON, CA\n",
            "...43.72554000000008, -79.40231999999997\n",
            "Geocoding Roselawn, Central Toronto, ON, CA\n",
            "...43.701596629362896, -79.44417900677871\n",
            "Geocoding The Junction North, York, ON, CA\n",
            "...43.81229995614298, -79.34029003722058\n",
            "Geocoding Runnymede, York, ON, CA\n",
            "...43.668590724740376, -79.48337416492855\n",
            "Geocoding Weston, York, ON, CA\n",
            "...43.70440000000008, -79.50933999999995\n",
            "Geocoding Dorset Park, Scarborough, ON, CA\n",
            "...43.75533000000007, -79.27745999999996\n",
            "Geocoding Scarborough Town Centre, Scarborough, ON, CA\n",
            "...43.77552000000003, -79.26064999999994\n",
            "Geocoding Wexford Heights, Scarborough, ON, CA\n",
            "...43.737040000000036, -79.27693999999997\n",
            "Geocoding York Mills West, North York, ON, CA\n",
            "...43.744158943504665, -79.40284306109886\n",
            "Geocoding Davisville North, Central Toronto, ON, CA\n",
            "...43.70063368974393, -79.38535877147055\n",
            "Geocoding Forest Hill North, Central Toronto, ON, CA\n",
            "...43.705220000000054, -79.42744999999996\n",
            "Geocoding Forest Hill West, Central Toronto, ON, CA\n",
            "...43.689910000000054, -79.42466999999994\n",
            "Geocoding High Park, West Toronto, ON, CA\n",
            "...43.644627328883466, -79.45738323501232\n",
            "Geocoding The Junction South, West Toronto, ON, CA\n",
            "...43.66833055675637, -79.46364928211021\n",
            "Geocoding Westmount, Etobicoke, ON, CA\n",
            "...43.68762000000004, -79.51947999999999\n",
            "Geocoding Maryvale, Scarborough, ON, CA\n",
            "...43.76024741944527, -79.29587574336372\n",
            "Geocoding Wexford, Scarborough, ON, CA\n",
            "...43.73956133900425, -79.29955826961967\n",
            "Geocoding Willowdale West, North York, ON, CA\n",
            "...43.771340000000066, -79.42801999999995\n",
            "Geocoding North Toronto West, Central Toronto, ON, CA\n",
            "...43.724000000000046, -79.40197999999998\n",
            "Geocoding The Annex, Central Toronto, ON, CA\n",
            "...43.66735503248282, -79.40457491642078\n",
            "Geocoding North Midtown, Central Toronto, ON, CA\n",
            "...43.648690000000045, -79.38543999999996\n",
            "Geocoding Yorkville, Central Toronto, ON, CA\n",
            "...43.67087255412863, -79.3924435824624\n",
            "Geocoding Parkdale, West Toronto, ON, CA\n",
            "...43.64132174291243, -79.45143113881925\n",
            "Geocoding Roncesvalles, West Toronto, ON, CA\n",
            "...43.64614660172293, -79.44897064169591\n",
            "Geocoding Canada Post Gateway Processing Centre, Mississauga, ON, CA\n",
            "...43.58726000000007, -79.64493999999996\n",
            "Geocoding Kingsview Village, Etobicoke, ON, CA\n",
            "...43.69717861532663, -79.5587751151852\n",
            "Geocoding Martin Grove Gardens, Etobicoke, ON, CA\n",
            "...43.68339000000003, -79.55703999999997\n",
            "Geocoding Richview Gardens, Etobicoke, ON, CA\n",
            "...43.680040000000076, -79.53798999999998\n",
            "Geocoding St. Phillips, Etobicoke, ON, CA\n",
            "...43.70046000000008, -79.53122999999994\n",
            "Geocoding Agincourt, Scarborough, ON, CA\n",
            "...43.78626000000003, -79.28083999999996\n",
            "Geocoding Davisville, Central Toronto, ON, CA\n",
            "...43.70063368974393, -79.38535877147055\n",
            "Geocoding Harbord, Downtown Toronto, ON, CA\n",
            "...43.65011000000004, -79.38289999999995\n",
            "Geocoding University of Toronto, Downtown Toronto, ON, CA\n",
            "...43.66774998831461, -79.39863994503438\n",
            "Geocoding Runnymede, West Toronto, ON, CA\n",
            "...43.66937938293843, -79.483707360607\n",
            "Geocoding Swansea, West Toronto, ON, CA\n",
            "...43.63944417525674, -79.47055304907498\n",
            "Geocoding Clarks Corners, Scarborough, ON, CA\n",
            "...43.78643000000005, -79.30155999999994\n",
            "Geocoding Sullivan, Scarborough, ON, CA\n",
            "...43.76024741944527, -79.29587574336372\n",
            "Geocoding Tam O'Shanter, Scarborough, ON, CA\n",
            "...43.785340000000076, -79.29832999999996\n",
            "Geocoding Moore Park, Central Toronto, ON, CA\n",
            "...43.78964503006527, -79.43793493296855\n",
            "Geocoding Summerhill East, Central Toronto, ON, CA\n",
            "...43.61185291023563, -79.48875424435107\n",
            "Geocoding Chinatown, Downtown Toronto, ON, CA\n",
            "...43.65011000000004, -79.38289999999995\n",
            "Geocoding Grange Park, Downtown Toronto, ON, CA\n",
            "...43.65225000000004, -79.39135999999996\n",
            "Geocoding Kensington Market, Downtown Toronto, ON, CA\n",
            "...43.65432004385711, -79.40189993003072\n",
            "Geocoding Agincourt North, Scarborough, ON, CA\n",
            "...43.809300000000064, -79.26706999999999\n",
            "Geocoding L'Amoreaux East, Scarborough, ON, CA\n",
            "...43.79976754912674, -79.31004752175751\n",
            "Geocoding Milliken, Scarborough, ON, CA\n",
            "...43.82325000000003, -79.27728999999994\n",
            "Geocoding Steeles East, Scarborough, ON, CA\n",
            "...43.85217032087865, -79.18412197205652\n",
            "Geocoding Deer Park, Central Toronto, ON, CA\n",
            "...43.68822460842786, -79.39884259347515\n",
            "Geocoding Forest Hill SE, Central Toronto, ON, CA\n",
            "...43.689910000000054, -79.42466999999994\n",
            "Geocoding Rathnelly, Central Toronto, ON, CA\n",
            "...43.67873567692022, -79.40097019517378\n",
            "Geocoding South Hill, Central Toronto, ON, CA\n",
            "...43.73589247981846, -79.21258046318948\n",
            "Geocoding Summerhill West, Central Toronto, ON, CA\n",
            "...43.61185291023563, -79.48875424435107\n",
            "Geocoding CN Tower, Downtown Toronto, ON, CA\n",
            "...43.65011000000004, -79.38289999999995\n",
            "Geocoding Bathurst Quay, Downtown Toronto, ON, CA\n",
            "...43.63546000000008, -79.39810999999997\n",
            "Geocoding Island airport, Downtown Toronto, ON, CA\n",
            "...43.632100144918965, -79.39585076724106\n",
            "Geocoding Harbourfront West, Downtown Toronto, ON, CA\n",
            "...43.65011000000004, -79.38289999999995\n",
            "Geocoding King and Spadina, Downtown Toronto, ON, CA\n",
            "...43.645440043716434, -79.39513995283988\n",
            "Geocoding Railway Lands, Downtown Toronto, ON, CA\n",
            "...43.65011000000004, -79.38289999999995\n",
            "Geocoding South Niagara, Downtown Toronto, ON, CA\n",
            "...43.65011000000004, -79.38289999999995\n",
            "Geocoding Humber Bay Shores, Etobicoke, ON, CA\n",
            "...43.62686000000008, -79.47670999999997\n",
            "Geocoding Mimico South, Etobicoke, ON, CA\n",
            "...43.61299121979061, -79.49303166611847\n",
            "Geocoding New Toronto, Etobicoke, ON, CA\n",
            "...43.60143000000005, -79.50924999999995\n",
            "Geocoding Albion Gardens, Etobicoke, ON, CA\n",
            "...43.739426894516825, -79.57863628849769\n",
            "Geocoding Beaumond Heights, Etobicoke, ON, CA\n",
            "...43.74304849263835, -79.57058649648481\n",
            "Geocoding Humbergate, Etobicoke, ON, CA\n",
            "...43.64761504281667, -79.510259902808\n",
            "Geocoding Jamestown, Etobicoke, ON, CA\n",
            "...43.734210914049044, -79.58549817330606\n",
            "Geocoding Mount Olive, Etobicoke, ON, CA\n",
            "...43.74706959239514, -79.59465870375863\n",
            "Geocoding Silverstone, Etobicoke, ON, CA\n",
            "...43.7506107233035, -79.5998140970117\n",
            "Geocoding South Steeles, Etobicoke, ON, CA\n",
            "...43.75951228942545, -79.59594648162053\n",
            "Geocoding Thistletown, Etobicoke, ON, CA\n",
            "...43.734570000000076, -79.56413999999995\n",
            "Geocoding L'Amoreaux West, Scarborough, ON, CA\n",
            "...43.79976754912674, -79.31004752175751\n",
            "Geocoding Rosedale, Downtown Toronto, ON, CA\n",
            "...43.65011000000004, -79.38289999999995\n",
            "Geocoding Stn A PO Boxes 25 The Esplanade, Downtown Toronto, ON, CA\n",
            "...43.64627383353479, -79.37531826057251\n",
            "Geocoding Alderwood, Etobicoke, ON, CA\n",
            "...43.60496000000006, -79.54115999999993\n",
            "Geocoding Long Branch, Etobicoke, ON, CA\n",
            "...43.593540000000075, -79.53274999999996\n",
            "Geocoding Northwest, Etobicoke, ON, CA\n",
            "...43.67999636268858, -79.75067149189795\n",
            "Geocoding Upper Rouge, Scarborough, ON, CA\n",
            "...43.80927938589406, -79.18769371605126\n",
            "Geocoding Cabbagetown, Downtown Toronto, ON, CA\n",
            "...43.65011000000004, -79.38289999999995\n",
            "Geocoding St. James Town, Downtown Toronto, ON, CA\n",
            "...43.67110000000008, -79.37358999999998\n",
            "Geocoding First Canadian Place, Downtown Toronto, ON, CA\n",
            "...43.64846470097693, -79.38097976326995\n",
            "Geocoding Underground city, Downtown Toronto, ON, CA\n",
            "...43.64958999220976, -79.38220998889143\n",
            "Geocoding The Kingsway, Etobicoke, ON, CA\n",
            "...43.650600000000054, -79.50712999999996\n",
            "Geocoding Montgomery Road, Etobicoke, ON, CA\n",
            "...43.65132125333583, -79.52346826304003\n",
            "Geocoding Old Mill North, Etobicoke, ON, CA\n",
            "...43.65125883526645, -79.49549262499299\n",
            "Geocoding Church and Wellesley, Downtown Toronto, ON, CA\n",
            "...43.66570002570083, -79.38092994474849\n",
            "Geocoding Business Reply Mail Processing Centre 969 Eastern, East Toronto, ON, CA\n",
            "...43.648690000000045, -79.38543999999996\n",
            "Geocoding Humber Bay, Etobicoke, ON, CA\n",
            "...43.631800000000055, -79.48480999999998\n",
            "Geocoding King's Mill Park, Etobicoke, ON, CA\n",
            "...43.64871000000005, -79.49383999999998\n",
            "Geocoding Kingsway Park South East, Etobicoke, ON, CA\n",
            "...43.657384748533886, -79.50338285980179\n",
            "Geocoding Mimico NE, Etobicoke, ON, CA\n",
            "...43.61299121979061, -79.49303166611847\n",
            "Geocoding Old Mill South, Etobicoke, ON, CA\n",
            "...43.65125883526645, -79.49549262499299\n",
            "Geocoding The Queensway East, Etobicoke, ON, CA\n",
            "...43.6097865119186, -79.567083611404\n",
            "Geocoding Royal York South East, Etobicoke, ON, CA\n",
            "...43.60926417929494, -79.4954822309143\n",
            "Geocoding Sunnylea, Etobicoke, ON, CA\n",
            "...43.643016060009806, -79.4983424416802\n",
            "Geocoding Kingsway Park South West, Etobicoke, ON, CA\n",
            "...43.657384748533886, -79.50338285980179\n",
            "Geocoding Mimico NW, Etobicoke, ON, CA\n",
            "...43.61299121979061, -79.49303166611847\n",
            "Geocoding The Queensway West, Etobicoke, ON, CA\n",
            "...43.6097865119186, -79.567083611404\n",
            "Geocoding Royal York South West, Etobicoke, ON, CA\n",
            "...43.60926417929494, -79.4954822309143\n",
            "Geocoding South of Bloor, Etobicoke, ON, CA\n",
            "...43.6492660151437, -79.5028297545183\n",
            "Geocoding Complete! 210 locations matched, but 0 not matched\n"
          ],
          "name": "stdout"
        },
        {
          "output_type": "execute_result",
          "data": {
            "text/plain": [
              "(210, 6)"
            ]
          },
          "metadata": {
            "tags": []
          },
          "execution_count": 10
        }
      ]
    },
    {
      "cell_type": "markdown",
      "metadata": {
        "id": "SgHRjczC1m_4"
      },
      "source": [
        "Review the data"
      ]
    },
    {
      "cell_type": "code",
      "metadata": {
        "colab": {
          "base_uri": "https://localhost:8080/",
          "height": 390
        },
        "id": "ZgEdNG_x1cTq",
        "outputId": "d6ba9f3d-8171-4b5a-964c-321e984bbed9"
      },
      "source": [
        "toronto_data.head(11)"
      ],
      "execution_count": 12,
      "outputs": [
        {
          "output_type": "execute_result",
          "data": {
            "text/html": [
              "<div>\n",
              "<style scoped>\n",
              "    .dataframe tbody tr th:only-of-type {\n",
              "        vertical-align: middle;\n",
              "    }\n",
              "\n",
              "    .dataframe tbody tr th {\n",
              "        vertical-align: top;\n",
              "    }\n",
              "\n",
              "    .dataframe thead th {\n",
              "        text-align: right;\n",
              "    }\n",
              "</style>\n",
              "<table border=\"1\" class=\"dataframe\">\n",
              "  <thead>\n",
              "    <tr style=\"text-align: right;\">\n",
              "      <th></th>\n",
              "      <th>Postcode</th>\n",
              "      <th>Borough</th>\n",
              "      <th>Neighbourhood</th>\n",
              "      <th>Address</th>\n",
              "      <th>Latitude</th>\n",
              "      <th>Longitude</th>\n",
              "    </tr>\n",
              "  </thead>\n",
              "  <tbody>\n",
              "    <tr>\n",
              "      <th>0</th>\n",
              "      <td>M3A</td>\n",
              "      <td>North York</td>\n",
              "      <td>Parkwoods</td>\n",
              "      <td>Parkwoods, North York, ON, CA</td>\n",
              "      <td>44.209732</td>\n",
              "      <td>-79.471897</td>\n",
              "    </tr>\n",
              "    <tr>\n",
              "      <th>1</th>\n",
              "      <td>M4A</td>\n",
              "      <td>North York</td>\n",
              "      <td>Victoria Village</td>\n",
              "      <td>Victoria Village, North York, ON, CA</td>\n",
              "      <td>43.731540</td>\n",
              "      <td>-79.314280</td>\n",
              "    </tr>\n",
              "    <tr>\n",
              "      <th>2</th>\n",
              "      <td>M5A</td>\n",
              "      <td>Downtown Toronto</td>\n",
              "      <td>Harbourfront</td>\n",
              "      <td>Harbourfront, Downtown Toronto, ON, CA</td>\n",
              "      <td>43.650110</td>\n",
              "      <td>-79.382900</td>\n",
              "    </tr>\n",
              "    <tr>\n",
              "      <th>3</th>\n",
              "      <td>M6A</td>\n",
              "      <td>North York</td>\n",
              "      <td>Lawrence Heights</td>\n",
              "      <td>Lawrence Heights, North York, ON, CA</td>\n",
              "      <td>43.723570</td>\n",
              "      <td>-79.437110</td>\n",
              "    </tr>\n",
              "    <tr>\n",
              "      <th>4</th>\n",
              "      <td>M6A</td>\n",
              "      <td>North York</td>\n",
              "      <td>Lawrence Manor</td>\n",
              "      <td>Lawrence Manor, North York, ON, CA</td>\n",
              "      <td>43.722940</td>\n",
              "      <td>-79.431160</td>\n",
              "    </tr>\n",
              "    <tr>\n",
              "      <th>5</th>\n",
              "      <td>M7A</td>\n",
              "      <td>Downtown Toronto</td>\n",
              "      <td>Queen's Park</td>\n",
              "      <td>Queen's Park, Downtown Toronto, ON, CA</td>\n",
              "      <td>43.660673</td>\n",
              "      <td>-79.390835</td>\n",
              "    </tr>\n",
              "    <tr>\n",
              "      <th>6</th>\n",
              "      <td>M9A</td>\n",
              "      <td>Etobicoke</td>\n",
              "      <td>Islington Avenue</td>\n",
              "      <td>Islington Avenue, Etobicoke, ON, CA</td>\n",
              "      <td>43.738221</td>\n",
              "      <td>-79.565733</td>\n",
              "    </tr>\n",
              "    <tr>\n",
              "      <th>7</th>\n",
              "      <td>M1B</td>\n",
              "      <td>Scarborough</td>\n",
              "      <td>Rouge</td>\n",
              "      <td>Rouge, Scarborough, ON, CA</td>\n",
              "      <td>43.807660</td>\n",
              "      <td>-79.174050</td>\n",
              "    </tr>\n",
              "    <tr>\n",
              "      <th>8</th>\n",
              "      <td>M1B</td>\n",
              "      <td>Scarborough</td>\n",
              "      <td>Malvern</td>\n",
              "      <td>Malvern, Scarborough, ON, CA</td>\n",
              "      <td>43.810230</td>\n",
              "      <td>-79.220380</td>\n",
              "    </tr>\n",
              "    <tr>\n",
              "      <th>9</th>\n",
              "      <td>M3B</td>\n",
              "      <td>North York</td>\n",
              "      <td>Don Mills North</td>\n",
              "      <td>Don Mills North, North York, ON, CA</td>\n",
              "      <td>43.705685</td>\n",
              "      <td>-79.333857</td>\n",
              "    </tr>\n",
              "    <tr>\n",
              "      <th>10</th>\n",
              "      <td>M4B</td>\n",
              "      <td>East York</td>\n",
              "      <td>Woodbine Gardens</td>\n",
              "      <td>Woodbine Gardens, East York, ON, CA</td>\n",
              "      <td>43.706260</td>\n",
              "      <td>-79.300910</td>\n",
              "    </tr>\n",
              "  </tbody>\n",
              "</table>\n",
              "</div>"
            ],
            "text/plain": [
              "   Postcode           Borough     Neighbourhood  \\\n",
              "0       M3A        North York         Parkwoods   \n",
              "1       M4A        North York  Victoria Village   \n",
              "2       M5A  Downtown Toronto      Harbourfront   \n",
              "3       M6A        North York  Lawrence Heights   \n",
              "4       M6A        North York    Lawrence Manor   \n",
              "5       M7A  Downtown Toronto      Queen's Park   \n",
              "6       M9A         Etobicoke  Islington Avenue   \n",
              "7       M1B       Scarborough             Rouge   \n",
              "8       M1B       Scarborough           Malvern   \n",
              "9       M3B        North York   Don Mills North   \n",
              "10      M4B         East York  Woodbine Gardens   \n",
              "\n",
              "                                   Address   Latitude  Longitude  \n",
              "0            Parkwoods, North York, ON, CA  44.209732 -79.471897  \n",
              "1     Victoria Village, North York, ON, CA  43.731540 -79.314280  \n",
              "2   Harbourfront, Downtown Toronto, ON, CA  43.650110 -79.382900  \n",
              "3     Lawrence Heights, North York, ON, CA  43.723570 -79.437110  \n",
              "4       Lawrence Manor, North York, ON, CA  43.722940 -79.431160  \n",
              "5   Queen's Park, Downtown Toronto, ON, CA  43.660673 -79.390835  \n",
              "6      Islington Avenue, Etobicoke, ON, CA  43.738221 -79.565733  \n",
              "7               Rouge, Scarborough, ON, CA  43.807660 -79.174050  \n",
              "8             Malvern, Scarborough, ON, CA  43.810230 -79.220380  \n",
              "9      Don Mills North, North York, ON, CA  43.705685 -79.333857  \n",
              "10     Woodbine Gardens, East York, ON, CA  43.706260 -79.300910  "
            ]
          },
          "metadata": {
            "tags": []
          },
          "execution_count": 12
        }
      ]
    },
    {
      "cell_type": "code",
      "metadata": {
        "id": "QvnjOmzr1uRK"
      },
      "source": [
        ""
      ],
      "execution_count": null,
      "outputs": []
    }
  ]
}